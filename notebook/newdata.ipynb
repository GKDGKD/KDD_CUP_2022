{
 "cells": [
  {
   "cell_type": "code",
   "execution_count": 1,
   "metadata": {},
   "outputs": [],
   "source": [
    "import pandas as pd\n",
    "from scipy.io import loadmat\n"
   ]
  },
  {
   "cell_type": "code",
   "execution_count": 15,
   "metadata": {},
   "outputs": [
    {
     "name": "stdout",
     "output_type": "stream",
     "text": [
      "dict_keys(['__header__', '__version__', '__globals__', 'Xp', 'Yp', 'Xtest', 'Ytest', 'Xtr', 'Ytr'])\n"
     ]
    }
   ],
   "source": [
    "\n",
    "# 读取MAT文件\n",
    "mat_data = loadmat('../../data/Lag=30,wind/step1.mat')\n",
    "\n",
    "# 查看MAT文件中的变量\n",
    "print(mat_data.keys())\n"
   ]
  },
  {
   "cell_type": "code",
   "execution_count": 16,
   "metadata": {},
   "outputs": [
    {
     "name": "stdout",
     "output_type": "stream",
     "text": [
      "Xp (96376, 600)\n",
      "Yp (96376, 3)\n",
      "Xtest (9638, 5, 30, 4)\n",
      "Ytest (9638, 3)\n",
      "Xtr (86738, 5, 30, 4)\n",
      "Ytr (86738, 3)\n"
     ]
    }
   ],
   "source": [
    "mat_dict = {\n",
    "    'Xp': mat_data['Xp'],\n",
    "    'Yp': mat_data['Yp'],\n",
    "    'Xtest': mat_data['Xtest'],\n",
    "    'Ytest': mat_data['Ytest'],\n",
    "    'Xtr': mat_data['Xtr'],\n",
    "    'Ytr': mat_data['Ytr']\n",
    "}\n",
    "\n",
    "# df_mat = pd.DataFrame(mat_dict)\n",
    "# df_mat.head()\n",
    "\n",
    "for k, v in mat_dict.items():\n",
    "    print(k, v.shape)"
   ]
  },
  {
   "cell_type": "code",
   "execution_count": null,
   "metadata": {},
   "outputs": [],
   "source": []
  }
 ],
 "metadata": {
  "kernelspec": {
   "display_name": "torch",
   "language": "python",
   "name": "python3"
  },
  "language_info": {
   "codemirror_mode": {
    "name": "ipython",
    "version": 3
   },
   "file_extension": ".py",
   "mimetype": "text/x-python",
   "name": "python",
   "nbconvert_exporter": "python",
   "pygments_lexer": "ipython3",
   "version": "3.9.18"
  }
 },
 "nbformat": 4,
 "nbformat_minor": 2
}
