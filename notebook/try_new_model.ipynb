{
 "cells": [
  {
   "cell_type": "code",
   "execution_count": 6,
   "metadata": {},
   "outputs": [],
   "source": [
    "import torch\n",
    "import sys\n",
    "sys.path.append(\"..\")\n",
    "\n",
    "import json, time, os\n",
    "from statsmodels.tsa.arima.model import ARIMA\n",
    "from utils import get_gnn_data\n",
    "from log.logutli import Logger"
   ]
  },
  {
   "cell_type": "code",
   "execution_count": 2,
   "metadata": {},
   "outputs": [
    {
     "name": "stdout",
     "output_type": "stream",
     "text": [
      "torch.Size([64, 134, 288, 10])\n"
     ]
    }
   ],
   "source": [
    "x = torch.randn(64, 134, 288, 10)\n",
    "\n",
    "print(x.shape)"
   ]
  },
  {
   "cell_type": "code",
   "execution_count": 22,
   "metadata": {},
   "outputs": [
    {
     "name": "stderr",
     "output_type": "stream",
     "text": [
      "2024-01-08 17:32:09-main-INFO: LOCAL TIME: 2024_01_08_17_32_09\n"
     ]
    },
    {
     "name": "stdout",
     "output_type": "stream",
     "text": [
      "log_name: Run_2024_01_08_17_32_09.log\n"
     ]
    },
    {
     "name": "stderr",
     "output_type": "stream",
     "text": [
      "2024-01-08 17:32:14-main-INFO: Raw data.shape: (4727520, 13)\n",
      "2024-01-08 17:32:15-main-INFO: data.shape: (134, 10, 35280), means.shape: (10,), stds.shape: (10,)\n",
      "2024-01-08 17:32:15-main-INFO: train_original_data: (134, 10, 28800), \n",
      "val_original_data: (134, 10, 2880), \n",
      "test_original_data: (134, 10, 3600).\n"
     ]
    }
   ],
   "source": [
    "with open('../config.json', 'r') as f:\n",
    "    config = json.load(f)\n",
    "config['data_path'] = '../data/'\n",
    "config[\"location_path\"] = \"../data/sdwpf_baidukddcup2022_turb_location.CSV\"\n",
    "\n",
    "\n",
    "# \"data_path\"      : \"./data/\",\n",
    "#     \"filename\"       : \"wtbdata_245days.csv\",\n",
    "#     \"location_path\"  : \"./data/sdwpf_baidukddcup2022_turb_location.CSV\",\n",
    "\n",
    "start_time   = time.time()\n",
    "current_time = time.strftime(\"%Y_%m_%d_%H_%M_%S\", time.localtime(start_time))\n",
    "save_dir     = os.path.join(\"../result\", current_time + f'_test')\n",
    "log_id       = 'main'\n",
    "log_name     = f'Run_{current_time}.log'\n",
    "log_level    = 'info'\n",
    "Logger_      = Logger(log_id, save_dir, log_name, log_level)\n",
    "logger       = Logger_.logger\n",
    "logger.info(f\"LOCAL TIME: {current_time}\")\n",
    "\n",
    "train_original_data, val_original_data, test_original_data, _, _, _ = get_gnn_data(config, logger)  "
   ]
  },
  {
   "cell_type": "code",
   "execution_count": 11,
   "metadata": {},
   "outputs": [
    {
     "name": "stdout",
     "output_type": "stream",
     "text": [
      "x1.shape: (28800,)\n",
      "(24,)\n"
     ]
    }
   ],
   "source": [
    "x1 = train_original_data[0, -1, :]\n",
    "print(f'x1.shape: {x1.shape}')\n",
    "input_time_step = 48\n",
    "forecast_steps = 24\n",
    "\n",
    "train, test = x1[:input_time_step], x1[input_time_step:input_time_step+forecast_steps]\n",
    "\n",
    "# train_size = 80\n",
    "# train, test = data[:train_size], data[train_size:]\n",
    "\n",
    "# 训练ARIMA模型\n",
    "order = (2, 1, 2)  # ARIMA(p, d, q)参数，可以根据实际情况调整\n",
    "model = ARIMA(train, order=order)\n",
    "model_fit = model.fit()\n",
    "\n",
    "# 多步向前预测\n",
    "forecast = model_fit.forecast(steps=forecast_steps)\n",
    "print(forecast.shape)"
   ]
  },
  {
   "cell_type": "code",
   "execution_count": 12,
   "metadata": {},
   "outputs": [
    {
     "name": "stdout",
     "output_type": "stream",
     "text": [
      "[2.79396946 2.79439029 2.75946172 2.69734311 2.71969366 2.79457732\n",
      " 2.7460888  2.79417988 2.78728301 2.69851208 2.77968476 2.70279047\n",
      " 2.7347265  2.72114317 2.5437182  2.19223488 2.03687991 1.43818463\n",
      " 1.6110974  1.38177055 1.28972653 1.00132037 0.63980736 0.94687015]\n",
      "[2.7936841  2.79360479 2.79356603 2.79354963 2.79354252 2.79353946\n",
      " 2.79353814 2.79353757 2.79353732 2.79353722 2.79353717 2.79353715\n",
      " 2.79353714 2.79353714 2.79353714 2.79353714 2.79353714 2.79353714\n",
      " 2.79353714 2.79353714 2.79353714 2.79353714 2.79353714 2.79353714]\n"
     ]
    }
   ],
   "source": [
    "print(test)\n",
    "print(forecast)"
   ]
  },
  {
   "cell_type": "code",
   "execution_count": 23,
   "metadata": {},
   "outputs": [
    {
     "name": "stdout",
     "output_type": "stream",
     "text": [
      "(134, 10, 3600)\n",
      "(3600,)\n"
     ]
    },
    {
     "name": "stderr",
     "output_type": "stream",
     "text": [
      "  0%|          | 0/3529 [00:00<?, ?it/s]"
     ]
    },
    {
     "name": "stderr",
     "output_type": "stream",
     "text": [
      "100%|██████████| 3529/3529 [02:51<00:00, 20.59it/s]\n"
     ]
    },
    {
     "name": "stdout",
     "output_type": "stream",
     "text": [
      "(3600,)\n"
     ]
    },
    {
     "name": "stderr",
     "output_type": "stream",
     "text": [
      "100%|██████████| 3529/3529 [02:58<00:00, 19.82it/s]\n"
     ]
    },
    {
     "name": "stdout",
     "output_type": "stream",
     "text": [
      "(3600,)\n"
     ]
    },
    {
     "name": "stderr",
     "output_type": "stream",
     "text": [
      "100%|██████████| 3529/3529 [03:00<00:00, 19.55it/s]\n"
     ]
    }
   ],
   "source": [
    "from tqdm import tqdm\n",
    "import warnings\n",
    "warnings.filterwarnings(\"ignore\")\n",
    "\n",
    "train_indices = [(i, i + (config['input_len'] + config['output_len'])) \n",
    "        for i in range(train_original_data.shape[2] - \\\n",
    "                        (config['input_len'] + config['output_len']) + 1)]\n",
    "val_indices = [(i, i + (config['input_len'] + config['output_len'])) \n",
    "        for i in range(val_original_data.shape[2] - \\\n",
    "                        (config['input_len'] + config['output_len']) + 1)]\n",
    "\n",
    "print(test_original_data.shape)\n",
    "\n",
    "\n",
    "for turb_id in range(test_original_data.shape[0]):  # [num_nodes, num_features, seq_len]\n",
    "    data = test_original_data[turb_id, -1, :]  # [seq_len, ]\n",
    "    print(data.shape)\n",
    "    for i in tqdm(range(test_original_data.shape[2] - \\\n",
    "                        (config['input_len'] + config['output_len']) + 1)):\n",
    "        train, test = data[i:i+input_time_step], data[i+input_time_step:i+input_time_step+forecast_steps]\n",
    "\n",
    "        # 训练ARIMA模型\n",
    "        order = (1, 1, 1)  # ARIMA(p, d, q)参数，可以根据实际情况调整\n",
    "        model = ARIMA(train, order=order)\n",
    "        model_fit = model.fit()\n",
    "\n",
    "        # 多步向前预测\n",
    "        forecast = model_fit.forecast(steps=forecast_steps)\n",
    "        # print(forecast.shape)\n",
    "    if turb_id > 1:\n",
    "        break "
   ]
  },
  {
   "cell_type": "code",
   "execution_count": 29,
   "metadata": {},
   "outputs": [
    {
     "name": "stderr",
     "output_type": "stream",
     "text": [
      "100%|██████████| 3529/3529 [41:11<00:00,  1.43it/s]\n"
     ]
    }
   ],
   "source": [
    "X = test_original_data[66, -1, :]\n",
    "for i in tqdm(range(len(X) - \\\n",
    "                    (config['input_len'] + config['output_len']) + 1)):\n",
    "    train, test = X[i:i+input_time_step], X[i+input_time_step:i+input_time_step+forecast_steps]\n",
    "\n",
    "    order = (1, 1, 1)  # ARIMA(p, d, q)参数，可以根据实际情况调整\n",
    "    model = ARIMA(X, order=order)\n",
    "    model_fit = model.fit()\n",
    "\n",
    "    # 多步向前预测\n",
    "    forecast = model_fit.forecast(steps=forecast_steps)"
   ]
  },
  {
   "cell_type": "code",
   "execution_count": 27,
   "metadata": {},
   "outputs": [
    {
     "data": {
      "text/plain": [
       "(3600,)"
      ]
     },
     "execution_count": 27,
     "metadata": {},
     "output_type": "execute_result"
    }
   ],
   "source": [
    "X.shape"
   ]
  }
 ],
 "metadata": {
  "kernelspec": {
   "display_name": "torch",
   "language": "python",
   "name": "python3"
  },
  "language_info": {
   "codemirror_mode": {
    "name": "ipython",
    "version": 3
   },
   "file_extension": ".py",
   "mimetype": "text/x-python",
   "name": "python",
   "nbconvert_exporter": "python",
   "pygments_lexer": "ipython3",
   "version": "3.9.18"
  }
 },
 "nbformat": 4,
 "nbformat_minor": 2
}
